{
 "cells": [
  {
   "cell_type": "code",
   "execution_count": null,
   "metadata": {},
   "outputs": [],
   "source": [
    "import numpy as np\n",
    "import pandas as pd\n",
    "import os\n",
    "os.getcwd()\n",
    "os.chdir('/home/mehrshad/code/arthurcornelio88/how-happy-in-europe')\n",
    "%load_ext autoreload\n",
    "%autoreload 2"
   ]
  },
  {
   "cell_type": "code",
   "execution_count": null,
   "metadata": {},
   "outputs": [],
   "source": [
    "from ml_logic.data import load_data\n",
    "df = load_data(filepath=\"data/ESS10/ESS10.csv\")"
   ]
  },
  {
   "cell_type": "code",
   "execution_count": null,
   "metadata": {},
   "outputs": [],
   "source": [
    "from ml_logic.preprocessor import preprocess_target\n",
    "\n",
    "features =[\n",
    "    'cntry', 'gndr','sclmeet',\n",
    "    'inprdsc','sclact','health',\n",
    "    'rlgdgr','dscrgrp','ctzcntr',\n",
    "    'brncntr', 'happy'\n",
    "]\n",
    "df_processed = preprocess_target(df=df, features=features)\n",
    "df_processed.head()"
   ]
  },
  {
   "cell_type": "code",
   "execution_count": null,
   "metadata": {},
   "outputs": [],
   "source": [
    "from ml_logic.preprocessor import feature_scale_map\n",
    "for feature in features[1:]:\n",
    "    feature_scale_map(df=df_processed, feature=feature)"
   ]
  },
  {
   "cell_type": "code",
   "execution_count": null,
   "metadata": {},
   "outputs": [],
   "source": [
    "df_processed['sclmeet'].unique()"
   ]
  },
  {
   "cell_type": "code",
   "execution_count": null,
   "metadata": {},
   "outputs": [],
   "source": [
    "# from ml_logic.preprocessor import scale_features\n",
    "# scale_features(df_processed)\n",
    "# TODO note complete\n"
   ]
  }
 ],
 "metadata": {
  "kernelspec": {
   "display_name": "how-happy-in-europe",
   "language": "python",
   "name": "python3"
  },
  "language_info": {
   "codemirror_mode": {
    "name": "ipython",
    "version": 3
   },
   "file_extension": ".py",
   "mimetype": "text/x-python",
   "name": "python",
   "nbconvert_exporter": "python",
   "pygments_lexer": "ipython3",
   "version": "3.10.6"
  }
 },
 "nbformat": 4,
 "nbformat_minor": 2
}
