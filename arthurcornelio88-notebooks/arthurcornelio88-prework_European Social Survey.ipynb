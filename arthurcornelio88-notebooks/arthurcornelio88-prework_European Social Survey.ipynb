{
 "cells": [
  {
   "cell_type": "code",
   "execution_count": 1,
   "id": "9869d25b",
   "metadata": {},
   "outputs": [],
   "source": [
    "import numpy as np\n",
    "import pandas as pd"
   ]
  },
  {
   "cell_type": "code",
   "execution_count": 6,
   "id": "d52f5921-1ae4-4b7b-b324-59fb2fec31dc",
   "metadata": {},
   "outputs": [
    {
     "data": {
      "text/plain": [
       "'/home/arthurcornelio/code/arthurcornelio88/how-happy-in-europe/arthurcornelio88-notebooks'"
      ]
     },
     "execution_count": 6,
     "metadata": {},
     "output_type": "execute_result"
    }
   ],
   "source": [
    "pwd"
   ]
  },
  {
   "cell_type": "code",
   "execution_count": 8,
   "id": "0ce0e5df",
   "metadata": {},
   "outputs": [
    {
     "name": "stderr",
     "output_type": "stream",
     "text": [
      "/tmp/ipykernel_61966/2932197154.py:4: DtypeWarning: Columns (166,172,174,607,608) have mixed types. Specify dtype option on import or set low_memory=False.\n",
      "  data = pd.read_csv(\"../data/ESS10/ESS10.csv\")\n"
     ]
    },
    {
     "data": {
      "text/plain": [
       "(37611, 618)"
      ]
     },
     "execution_count": 8,
     "metadata": {},
     "output_type": "execute_result"
    }
   ],
   "source": [
    "######\n",
    "# website : https://ess.sikt.no/en/datafile/a93fed5b-3858-4e86-bdae-dfcf5bbc9bf9/33?tab=0\n",
    "\n",
    "data = pd.read_csv(\"../data/ESS10/ESS10.csv\")\n",
    "data.shape"
   ]
  },
  {
   "cell_type": "code",
   "execution_count": null,
   "id": "478dc6ba",
   "metadata": {},
   "outputs": [],
   "source": [
    "import seaborn as sns\n",
    "import matplotlib.pyplot as plt\n",
    "df = pd.DataFrame(data[[\"netusoft\"]])\n",
    "sns.histplot(df)\n",
    "plt.xticks(ticks=[1,2,3,4,5,7,8,9], rotation=90, labels=['Never','Only occasionally','A few times a week','Most days','Every day','Refusal*','Dont know*','No answer*'])\n",
    "plt.legend(labels=['Internet use, how often'])"
   ]
  },
  {
   "cell_type": "code",
   "execution_count": null,
   "id": "4bbb3c8e",
   "metadata": {},
   "outputs": [],
   "source": [
    "data.groupby('cntry').count()\n",
    "#grouped by country"
   ]
  },
  {
   "cell_type": "code",
   "execution_count": null,
   "id": "56754591",
   "metadata": {},
   "outputs": [],
   "source": [
    "dict_df = {\n",
    "    \"Human values\" : 1,\n",
    "    \"Impact of COVID-19\" : 1,\n",
    "    \"Test questions\" : 1\n",
    "}"
   ]
  },
  {
   "cell_type": "code",
   "execution_count": null,
   "id": "bd5eafd3",
   "metadata": {},
   "outputs": [],
   "source": [
    "df_test = data.iloc[:, 540:549]\n",
    "dict_df['Test questions'] = df_test\n",
    "dict_df['Test questions']"
   ]
  },
  {
   "cell_type": "code",
   "execution_count": null,
   "id": "f56e1935",
   "metadata": {},
   "outputs": [],
   "source": [
    "df_human_values = data.iloc[:, 519:540]\n",
    "dict_df['Human values'] = df_human_values\n",
    "dict_df['Human values']"
   ]
  },
  {
   "cell_type": "code",
   "execution_count": null,
   "id": "3b3ddc3e",
   "metadata": {},
   "outputs": [],
   "source": [
    "df_covid = data.iloc[:, 549:583]\n",
    "dict_df['Impact of COVID-19'] = df_covid\n",
    "dict_df['Impact of COVID-19']"
   ]
  },
  {
   "cell_type": "code",
   "execution_count": null,
   "id": "7f8342f6",
   "metadata": {},
   "outputs": [],
   "source": [
    "df_dig_social_contacts = data.iloc[:, 449:519]\n",
    "dict_df['Digital social contacts in works and family life'] = df_dig_social_contacts\n",
    "dict_df['Digital social contacts in works and family life']"
   ]
  },
  {
   "cell_type": "code",
   "execution_count": null,
   "id": "75013cde",
   "metadata": {},
   "outputs": [],
   "source": [
    "df_social_demographics = data.iloc[:, 268:449] \n",
    "dict_df['Socio-demographics'] = df_social_demographics\n",
    "dict_df['Socio-demographics']"
   ]
  },
  {
   "cell_type": "code",
   "execution_count": null,
   "id": "7fdfda2f",
   "metadata": {},
   "outputs": [],
   "source": [
    "df_social_exclusion = data.iloc[:,106:177]\n",
    "df_social_exclusion\n",
    "dict_df['Subjective well-being, social exclusion, religion, national and ethnic identity'] = df_social_exclusion\n",
    "dict_df['Subjective well-being, social exclusion, religion, national and ethnic identity']"
   ]
  },
  {
   "cell_type": "code",
   "execution_count": null,
   "id": "bdf97859",
   "metadata": {},
   "outputs": [],
   "source": [
    "data.columns.get_loc('tmpdca')\n",
    "#dict_df.keys()"
   ]
  },
  {
   "cell_type": "code",
   "execution_count": null,
   "id": "d63a7976",
   "metadata": {},
   "outputs": [],
   "source": [
    "\"Gender, Year of birth and Household grid\"\n",
    "\"Understanding of democracy\"\n",
    "\"Subjective well-being, social exclusion, religion, national and ethnic identity\"\n",
    "\"Politics\"\n",
    "\"Media and social trust\"\n",
    "\"Identifier and weight variables\""
   ]
  },
  {
   "cell_type": "code",
   "execution_count": null,
   "id": "ea8f7940",
   "metadata": {},
   "outputs": [],
   "source": [
    "from matplotlib import pyplot as plt\n",
    "\n",
    "df = dict_df['Subjective well-being, social exclusion, religion, national and ethnic identity']\n",
    "df = df[['happy']][df['happy']<12]\n",
    "df\n",
    "plt.hist(df)\n",
    "plt.xlabel('Happiness')\n",
    "plt.ylabel('European population')\n",
    "plt.xticks(ticks=[0,10], rotation=90, labels=['Extremely unhappy','Extremely happy'])\n"
   ]
  },
  {
   "cell_type": "markdown",
   "id": "1481c86e",
   "metadata": {},
   "source": [
    "# Experiments on 18/03/2024"
   ]
  },
  {
   "cell_type": "markdown",
   "id": "ba32224f",
   "metadata": {},
   "source": [
    "## Member of a group discriminated against in this country."
   ]
  },
  {
   "cell_type": "code",
   "execution_count": null,
   "id": "911df57e",
   "metadata": {},
   "outputs": [],
   "source": [
    "# yes = 1\n",
    "data[data['dscrgrp']==1].shape"
   ]
  },
  {
   "cell_type": "code",
   "execution_count": null,
   "id": "2d241f27",
   "metadata": {},
   "outputs": [],
   "source": [
    "# no = 2\n",
    "data[data['dscrgrp']==2].shape"
   ]
  },
  {
   "cell_type": "code",
   "execution_count": null,
   "id": "2f675c81",
   "metadata": {},
   "outputs": [],
   "source": [
    "# 7, 8, 9 = refusal, don't know, no answer\n",
    "data[(data['dscrgrp']==7) | (data['dscrgrp']==8) | (data['dscrgrp']==9)].shape # or data['dscrgrp']==9 ].shape"
   ]
  },
  {
   "cell_type": "markdown",
   "id": "659f140b",
   "metadata": {},
   "source": [
    "## By gender"
   ]
  },
  {
   "cell_type": "code",
   "execution_count": null,
   "id": "49223c6c",
   "metadata": {
    "scrolled": true
   },
   "outputs": [],
   "source": [
    "# male = 1\n",
    "data[data['gndr']==1].shape"
   ]
  },
  {
   "cell_type": "code",
   "execution_count": null,
   "id": "a3cc26be",
   "metadata": {},
   "outputs": [],
   "source": [
    "# female = 2\n",
    "data[data['gndr']==2].shape"
   ]
  },
  {
   "cell_type": "code",
   "execution_count": null,
   "id": "3582d0db",
   "metadata": {},
   "outputs": [],
   "source": [
    "# no answer = 9\n",
    "data[data['gndr']==9].shape"
   ]
  },
  {
   "cell_type": "markdown",
   "id": "4a716f40",
   "metadata": {},
   "source": [
    "## By age (bunches of 10 years)"
   ]
  },
  {
   "cell_type": "code",
   "execution_count": null,
   "id": "e896e110",
   "metadata": {},
   "outputs": [],
   "source": [
    "# between 15 and 20 years (minimal age = 15 years)\n",
    "data[(data['agea']>=15) & (data['agea']<=20)].set_index('agea').shape"
   ]
  },
  {
   "cell_type": "code",
   "execution_count": null,
   "id": "a3c6ff84",
   "metadata": {},
   "outputs": [],
   "source": [
    "# between 21 and 30 years\n",
    "data[(data['agea']>=21) & (data['agea']<=30)].set_index('agea').shape"
   ]
  },
  {
   "cell_type": "code",
   "execution_count": null,
   "id": "f7e08c04",
   "metadata": {},
   "outputs": [],
   "source": [
    "# between 31 and 40 years\n",
    "data[(data['agea']>=31) & (data['agea']<=40)].set_index('agea').shape"
   ]
  },
  {
   "cell_type": "code",
   "execution_count": null,
   "id": "d45173f6",
   "metadata": {
    "scrolled": true
   },
   "outputs": [],
   "source": [
    "# between 41 and 50 years\n",
    "data[(data['agea']>=41) & (data['agea']<=50)].set_index('agea').shape"
   ]
  },
  {
   "cell_type": "code",
   "execution_count": null,
   "id": "e4e7309c",
   "metadata": {},
   "outputs": [],
   "source": [
    "# between 51 and 60 years\n",
    "data[(data['agea']>=51) & (data['agea']<=60)].set_index('agea').shape"
   ]
  },
  {
   "cell_type": "code",
   "execution_count": null,
   "id": "2f929716",
   "metadata": {},
   "outputs": [],
   "source": [
    "# between 61 and 70 years\n",
    "data[(data['agea']>=61) & (data['agea']<=70)].set_index('agea').shape"
   ]
  },
  {
   "cell_type": "code",
   "execution_count": null,
   "id": "f9ad2037",
   "metadata": {},
   "outputs": [],
   "source": [
    "# between 71 and 80 years\n",
    "data[(data['agea']>=71) & (data['agea']<=80)].set_index('agea').shape"
   ]
  },
  {
   "cell_type": "code",
   "execution_count": null,
   "id": "3b6eb349",
   "metadata": {},
   "outputs": [],
   "source": [
    "# between 81 and 90 years, it goes until 90 years\n",
    "data[(data['agea']>=81) & (data['agea']<=90)].set_index('agea').shape"
   ]
  },
  {
   "cell_type": "code",
   "execution_count": null,
   "id": "6b4b4832",
   "metadata": {},
   "outputs": [],
   "source": [
    "# not available = 999\n",
    "data[data['agea']==999].set_index('agea').shape"
   ]
  },
  {
   "cell_type": "code",
   "execution_count": null,
   "id": "62976021",
   "metadata": {},
   "outputs": [],
   "source": [
    "data_fil = data[data['agea']!=999]\n",
    "x = data_fil.groupby('agea')[['agea']].count()\n",
    "xx = data[data['agea']!=999]\n",
    "#yy = np.arange(0,90,1)\n",
    "plt.hist(xx)"
   ]
  },
  {
   "cell_type": "markdown",
   "id": "d18fb4ab",
   "metadata": {},
   "source": [
    "## Some exploration on weighting"
   ]
  },
  {
   "cell_type": "code",
   "execution_count": 10,
   "id": "af3bb382",
   "metadata": {},
   "outputs": [
    {
     "data": {
      "text/html": [
       "<div>\n",
       "<style scoped>\n",
       "    .dataframe tbody tr th:only-of-type {\n",
       "        vertical-align: middle;\n",
       "    }\n",
       "\n",
       "    .dataframe tbody tr th {\n",
       "        vertical-align: top;\n",
       "    }\n",
       "\n",
       "    .dataframe thead th {\n",
       "        text-align: right;\n",
       "    }\n",
       "</style>\n",
       "<table border=\"1\" class=\"dataframe\">\n",
       "  <thead>\n",
       "    <tr style=\"text-align: right;\">\n",
       "      <th></th>\n",
       "      <th>name</th>\n",
       "      <th>essround</th>\n",
       "      <th>edition</th>\n",
       "      <th>proddate</th>\n",
       "      <th>idno</th>\n",
       "      <th>cntry</th>\n",
       "      <th>dweight</th>\n",
       "      <th>pspwght</th>\n",
       "      <th>pweight</th>\n",
       "      <th>anweight</th>\n",
       "      <th>...</th>\n",
       "      <th>vinwe</th>\n",
       "      <th>inwde</th>\n",
       "      <th>jinws</th>\n",
       "      <th>jinwe</th>\n",
       "      <th>inwtm</th>\n",
       "      <th>mode</th>\n",
       "      <th>domain</th>\n",
       "      <th>prob</th>\n",
       "      <th>stratum</th>\n",
       "      <th>psu</th>\n",
       "    </tr>\n",
       "  </thead>\n",
       "  <tbody>\n",
       "    <tr>\n",
       "      <th>0</th>\n",
       "      <td>ESS10e03_2</td>\n",
       "      <td>10</td>\n",
       "      <td>3.2</td>\n",
       "      <td>02.11.2023</td>\n",
       "      <td>10038</td>\n",
       "      <td>BE</td>\n",
       "      <td>0.882220</td>\n",
       "      <td>0.972276</td>\n",
       "      <td>0.718075</td>\n",
       "      <td>0.698167</td>\n",
       "      <td>...</td>\n",
       "      <td>2022-09-01 17:47:00</td>\n",
       "      <td>2022-09-01 17:47:00</td>\n",
       "      <td>2022-09-01 17:47:00</td>\n",
       "      <td>2022-09-01 17:47:00</td>\n",
       "      <td>36.0</td>\n",
       "      <td>1</td>\n",
       "      <td>1.0</td>\n",
       "      <td>0.000397</td>\n",
       "      <td>188</td>\n",
       "      <td>2596</td>\n",
       "    </tr>\n",
       "    <tr>\n",
       "      <th>1</th>\n",
       "      <td>ESS10e03_2</td>\n",
       "      <td>10</td>\n",
       "      <td>3.2</td>\n",
       "      <td>02.11.2023</td>\n",
       "      <td>10053</td>\n",
       "      <td>BE</td>\n",
       "      <td>1.047643</td>\n",
       "      <td>0.888635</td>\n",
       "      <td>0.718075</td>\n",
       "      <td>0.638107</td>\n",
       "      <td>...</td>\n",
       "      <td>2022-04-08 11:07:00</td>\n",
       "      <td>2022-04-08 11:10:00</td>\n",
       "      <td>2022-04-08 11:07:00</td>\n",
       "      <td>2022-04-08 11:10:00</td>\n",
       "      <td>54.0</td>\n",
       "      <td>2</td>\n",
       "      <td>2.0</td>\n",
       "      <td>0.000334</td>\n",
       "      <td>194</td>\n",
       "      <td>2206</td>\n",
       "    </tr>\n",
       "    <tr>\n",
       "      <th>2</th>\n",
       "      <td>ESS10e03_2</td>\n",
       "      <td>10</td>\n",
       "      <td>3.2</td>\n",
       "      <td>02.11.2023</td>\n",
       "      <td>10055</td>\n",
       "      <td>BE</td>\n",
       "      <td>1.087741</td>\n",
       "      <td>0.722811</td>\n",
       "      <td>0.718075</td>\n",
       "      <td>0.519033</td>\n",
       "      <td>...</td>\n",
       "      <td>2022-05-20 11:08:00</td>\n",
       "      <td>2022-05-20 11:10:00</td>\n",
       "      <td>2022-05-20 11:08:00</td>\n",
       "      <td>2022-05-20 11:10:00</td>\n",
       "      <td>77.0</td>\n",
       "      <td>1</td>\n",
       "      <td>2.0</td>\n",
       "      <td>0.000322</td>\n",
       "      <td>198</td>\n",
       "      <td>2114</td>\n",
       "    </tr>\n",
       "    <tr>\n",
       "      <th>3</th>\n",
       "      <td>ESS10e03_2</td>\n",
       "      <td>10</td>\n",
       "      <td>3.2</td>\n",
       "      <td>02.11.2023</td>\n",
       "      <td>10062</td>\n",
       "      <td>BE</td>\n",
       "      <td>0.909910</td>\n",
       "      <td>1.005565</td>\n",
       "      <td>0.718075</td>\n",
       "      <td>0.722072</td>\n",
       "      <td>...</td>\n",
       "      <td>2022-05-22 13:58:00</td>\n",
       "      <td>2022-05-22 13:59:00</td>\n",
       "      <td>2022-05-22 13:58:00</td>\n",
       "      <td>2022-05-22 13:59:00</td>\n",
       "      <td>55.0</td>\n",
       "      <td>1</td>\n",
       "      <td>1.0</td>\n",
       "      <td>0.000385</td>\n",
       "      <td>150</td>\n",
       "      <td>2645</td>\n",
       "    </tr>\n",
       "    <tr>\n",
       "      <th>4</th>\n",
       "      <td>ESS10e03_2</td>\n",
       "      <td>10</td>\n",
       "      <td>3.2</td>\n",
       "      <td>02.11.2023</td>\n",
       "      <td>10064</td>\n",
       "      <td>BE</td>\n",
       "      <td>0.918949</td>\n",
       "      <td>0.638705</td>\n",
       "      <td>0.718075</td>\n",
       "      <td>0.458639</td>\n",
       "      <td>...</td>\n",
       "      <td>2022-05-18 11:44:00</td>\n",
       "      <td>2022-05-18 11:45:00</td>\n",
       "      <td>2022-05-18 11:44:00</td>\n",
       "      <td>2022-05-18 11:45:00</td>\n",
       "      <td>55.0</td>\n",
       "      <td>1</td>\n",
       "      <td>1.0</td>\n",
       "      <td>0.000381</td>\n",
       "      <td>149</td>\n",
       "      <td>2313</td>\n",
       "    </tr>\n",
       "    <tr>\n",
       "      <th>...</th>\n",
       "      <td>...</td>\n",
       "      <td>...</td>\n",
       "      <td>...</td>\n",
       "      <td>...</td>\n",
       "      <td>...</td>\n",
       "      <td>...</td>\n",
       "      <td>...</td>\n",
       "      <td>...</td>\n",
       "      <td>...</td>\n",
       "      <td>...</td>\n",
       "      <td>...</td>\n",
       "      <td>...</td>\n",
       "      <td>...</td>\n",
       "      <td>...</td>\n",
       "      <td>...</td>\n",
       "      <td>...</td>\n",
       "      <td>...</td>\n",
       "      <td>...</td>\n",
       "      <td>...</td>\n",
       "      <td>...</td>\n",
       "      <td>...</td>\n",
       "    </tr>\n",
       "    <tr>\n",
       "      <th>37606</th>\n",
       "      <td>ESS10e03_2</td>\n",
       "      <td>10</td>\n",
       "      <td>3.2</td>\n",
       "      <td>02.11.2023</td>\n",
       "      <td>27808</td>\n",
       "      <td>SK</td>\n",
       "      <td>0.515714</td>\n",
       "      <td>0.339385</td>\n",
       "      <td>0.323800</td>\n",
       "      <td>0.109893</td>\n",
       "      <td>...</td>\n",
       "      <td>2021-06-08 14:28:34</td>\n",
       "      <td>2021-06-08 14:30:41</td>\n",
       "      <td>2021-06-08 14:29:01</td>\n",
       "      <td>2021-06-08 14:31:44</td>\n",
       "      <td>70.0</td>\n",
       "      <td>1</td>\n",
       "      <td>1.0</td>\n",
       "      <td>0.001522</td>\n",
       "      <td>2610</td>\n",
       "      <td>27206</td>\n",
       "    </tr>\n",
       "    <tr>\n",
       "      <th>37607</th>\n",
       "      <td>ESS10e03_2</td>\n",
       "      <td>10</td>\n",
       "      <td>3.2</td>\n",
       "      <td>02.11.2023</td>\n",
       "      <td>27826</td>\n",
       "      <td>SK</td>\n",
       "      <td>0.297974</td>\n",
       "      <td>0.196093</td>\n",
       "      <td>0.323800</td>\n",
       "      <td>0.063495</td>\n",
       "      <td>...</td>\n",
       "      <td>2021-08-02 10:33:27</td>\n",
       "      <td>2021-08-02 10:36:27</td>\n",
       "      <td>2021-08-02 10:35:22</td>\n",
       "      <td>2021-08-02 10:37:34</td>\n",
       "      <td>45.0</td>\n",
       "      <td>1</td>\n",
       "      <td>2.0</td>\n",
       "      <td>0.002635</td>\n",
       "      <td>2610</td>\n",
       "      <td>27217</td>\n",
       "    </tr>\n",
       "    <tr>\n",
       "      <th>37608</th>\n",
       "      <td>ESS10e03_2</td>\n",
       "      <td>10</td>\n",
       "      <td>3.2</td>\n",
       "      <td>02.11.2023</td>\n",
       "      <td>27834</td>\n",
       "      <td>SK</td>\n",
       "      <td>0.965931</td>\n",
       "      <td>0.857000</td>\n",
       "      <td>0.323800</td>\n",
       "      <td>0.277497</td>\n",
       "      <td>...</td>\n",
       "      <td>2021-06-26 20:52:15</td>\n",
       "      <td>2021-06-26 20:53:05</td>\n",
       "      <td>2021-06-26 20:52:27</td>\n",
       "      <td>2021-06-26 20:54:32</td>\n",
       "      <td>33.0</td>\n",
       "      <td>1</td>\n",
       "      <td>1.0</td>\n",
       "      <td>0.000813</td>\n",
       "      <td>2631</td>\n",
       "      <td>27134</td>\n",
       "    </tr>\n",
       "    <tr>\n",
       "      <th>37609</th>\n",
       "      <td>ESS10e03_2</td>\n",
       "      <td>10</td>\n",
       "      <td>3.2</td>\n",
       "      <td>02.11.2023</td>\n",
       "      <td>27846</td>\n",
       "      <td>SK</td>\n",
       "      <td>0.854279</td>\n",
       "      <td>0.624287</td>\n",
       "      <td>0.323800</td>\n",
       "      <td>0.202144</td>\n",
       "      <td>...</td>\n",
       "      <td>2021-07-21 14:14:41</td>\n",
       "      <td>2021-07-21 14:17:31</td>\n",
       "      <td>2021-07-21 14:16:38</td>\n",
       "      <td>2021-07-21 14:18:38</td>\n",
       "      <td>43.0</td>\n",
       "      <td>1</td>\n",
       "      <td>1.0</td>\n",
       "      <td>0.000919</td>\n",
       "      <td>2638</td>\n",
       "      <td>27183</td>\n",
       "    </tr>\n",
       "    <tr>\n",
       "      <th>37610</th>\n",
       "      <td>ESS10e03_2</td>\n",
       "      <td>10</td>\n",
       "      <td>3.2</td>\n",
       "      <td>02.11.2023</td>\n",
       "      <td>27858</td>\n",
       "      <td>SK</td>\n",
       "      <td>0.702292</td>\n",
       "      <td>0.581970</td>\n",
       "      <td>0.323800</td>\n",
       "      <td>0.188442</td>\n",
       "      <td>...</td>\n",
       "      <td>2021-07-11 10:48:52</td>\n",
       "      <td>2021-07-11 10:52:58</td>\n",
       "      <td>2021-07-11 10:52:10</td>\n",
       "      <td>2021-07-11 10:54:10</td>\n",
       "      <td>49.0</td>\n",
       "      <td>1</td>\n",
       "      <td>1.0</td>\n",
       "      <td>0.001118</td>\n",
       "      <td>2620</td>\n",
       "      <td>27002</td>\n",
       "    </tr>\n",
       "  </tbody>\n",
       "</table>\n",
       "<p>37611 rows × 618 columns</p>\n",
       "</div>"
      ],
      "text/plain": [
       "             name  essround  edition    proddate   idno cntry   dweight  \\\n",
       "0      ESS10e03_2        10      3.2  02.11.2023  10038    BE  0.882220   \n",
       "1      ESS10e03_2        10      3.2  02.11.2023  10053    BE  1.047643   \n",
       "2      ESS10e03_2        10      3.2  02.11.2023  10055    BE  1.087741   \n",
       "3      ESS10e03_2        10      3.2  02.11.2023  10062    BE  0.909910   \n",
       "4      ESS10e03_2        10      3.2  02.11.2023  10064    BE  0.918949   \n",
       "...           ...       ...      ...         ...    ...   ...       ...   \n",
       "37606  ESS10e03_2        10      3.2  02.11.2023  27808    SK  0.515714   \n",
       "37607  ESS10e03_2        10      3.2  02.11.2023  27826    SK  0.297974   \n",
       "37608  ESS10e03_2        10      3.2  02.11.2023  27834    SK  0.965931   \n",
       "37609  ESS10e03_2        10      3.2  02.11.2023  27846    SK  0.854279   \n",
       "37610  ESS10e03_2        10      3.2  02.11.2023  27858    SK  0.702292   \n",
       "\n",
       "        pspwght   pweight  anweight  ...                vinwe  \\\n",
       "0      0.972276  0.718075  0.698167  ...  2022-09-01 17:47:00   \n",
       "1      0.888635  0.718075  0.638107  ...  2022-04-08 11:07:00   \n",
       "2      0.722811  0.718075  0.519033  ...  2022-05-20 11:08:00   \n",
       "3      1.005565  0.718075  0.722072  ...  2022-05-22 13:58:00   \n",
       "4      0.638705  0.718075  0.458639  ...  2022-05-18 11:44:00   \n",
       "...         ...       ...       ...  ...                  ...   \n",
       "37606  0.339385  0.323800  0.109893  ...  2021-06-08 14:28:34   \n",
       "37607  0.196093  0.323800  0.063495  ...  2021-08-02 10:33:27   \n",
       "37608  0.857000  0.323800  0.277497  ...  2021-06-26 20:52:15   \n",
       "37609  0.624287  0.323800  0.202144  ...  2021-07-21 14:14:41   \n",
       "37610  0.581970  0.323800  0.188442  ...  2021-07-11 10:48:52   \n",
       "\n",
       "                     inwde                jinws                jinwe  inwtm  \\\n",
       "0      2022-09-01 17:47:00  2022-09-01 17:47:00  2022-09-01 17:47:00   36.0   \n",
       "1      2022-04-08 11:10:00  2022-04-08 11:07:00  2022-04-08 11:10:00   54.0   \n",
       "2      2022-05-20 11:10:00  2022-05-20 11:08:00  2022-05-20 11:10:00   77.0   \n",
       "3      2022-05-22 13:59:00  2022-05-22 13:58:00  2022-05-22 13:59:00   55.0   \n",
       "4      2022-05-18 11:45:00  2022-05-18 11:44:00  2022-05-18 11:45:00   55.0   \n",
       "...                    ...                  ...                  ...    ...   \n",
       "37606  2021-06-08 14:30:41  2021-06-08 14:29:01  2021-06-08 14:31:44   70.0   \n",
       "37607  2021-08-02 10:36:27  2021-08-02 10:35:22  2021-08-02 10:37:34   45.0   \n",
       "37608  2021-06-26 20:53:05  2021-06-26 20:52:27  2021-06-26 20:54:32   33.0   \n",
       "37609  2021-07-21 14:17:31  2021-07-21 14:16:38  2021-07-21 14:18:38   43.0   \n",
       "37610  2021-07-11 10:52:58  2021-07-11 10:52:10  2021-07-11 10:54:10   49.0   \n",
       "\n",
       "       mode  domain      prob  stratum    psu  \n",
       "0         1     1.0  0.000397      188   2596  \n",
       "1         2     2.0  0.000334      194   2206  \n",
       "2         1     2.0  0.000322      198   2114  \n",
       "3         1     1.0  0.000385      150   2645  \n",
       "4         1     1.0  0.000381      149   2313  \n",
       "...     ...     ...       ...      ...    ...  \n",
       "37606     1     1.0  0.001522     2610  27206  \n",
       "37607     1     2.0  0.002635     2610  27217  \n",
       "37608     1     1.0  0.000813     2631  27134  \n",
       "37609     1     1.0  0.000919     2638  27183  \n",
       "37610     1     1.0  0.001118     2620  27002  \n",
       "\n",
       "[37611 rows x 618 columns]"
      ]
     },
     "execution_count": 10,
     "metadata": {},
     "output_type": "execute_result"
    }
   ],
   "source": [
    "data"
   ]
  }
 ],
 "metadata": {
  "kernelspec": {
   "display_name": "Python 3 (ipykernel)",
   "language": "python",
   "name": "python3"
  },
  "language_info": {
   "codemirror_mode": {
    "name": "ipython",
    "version": 3
   },
   "file_extension": ".py",
   "mimetype": "text/x-python",
   "name": "python",
   "nbconvert_exporter": "python",
   "pygments_lexer": "ipython3",
   "version": "3.10.6"
  },
  "toc": {
   "base_numbering": 1,
   "nav_menu": {},
   "number_sections": true,
   "sideBar": true,
   "skip_h1_title": false,
   "title_cell": "Table of Contents",
   "title_sidebar": "Contents",
   "toc_cell": false,
   "toc_position": {},
   "toc_section_display": true,
   "toc_window_display": false
  }
 },
 "nbformat": 4,
 "nbformat_minor": 5
}
