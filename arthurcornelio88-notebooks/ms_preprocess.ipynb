{
 "cells": [
  {
   "cell_type": "markdown",
   "metadata": {},
   "source": [
    "## Starting with 10 features"
   ]
  },
  {
   "cell_type": "code",
   "execution_count": 2,
   "metadata": {},
   "outputs": [],
   "source": [
    "import pandas as pd\n",
    "import numpy as np\n",
    "from sklearn.model_selection import train_test_split\n",
    "from sklearn.preprocessing import OneHotEncoder, StandardScaler, MinMaxScaler\n",
    "from sklearn.linear_model import LinearRegression\n",
    "from sklearn.metrics import mean_squared_error\n",
    "from sklearn.impute import SimpleImputer\n"
   ]
  },
  {
   "cell_type": "code",
   "execution_count": 15,
   "metadata": {},
   "outputs": [
    {
     "name": "stderr",
     "output_type": "stream",
     "text": [
      "/tmp/ipykernel_296044/2829932950.py:1: DtypeWarning: Columns (166,172,174,607,608) have mixed types. Specify dtype option on import or set low_memory=False.\n",
      "  df = pd.read_csv(\"../data/ESS10/ESS10.csv\")\n"
     ]
    }
   ],
   "source": [
    "df = pd.read_csv(\"../data/ESS10/ESS10.csv\")\n"
   ]
  },
  {
   "cell_type": "code",
   "execution_count": 16,
   "metadata": {},
   "outputs": [],
   "source": [
    "base_df = df[['cntry', 'gndr','sclmeet','inprdsc','sclact','health','rlgdgr','dscrgrp','ctzcntr', 'brncntr', 'happy']]"
   ]
  },
  {
   "cell_type": "code",
   "execution_count": 17,
   "metadata": {},
   "outputs": [
    {
     "name": "stderr",
     "output_type": "stream",
     "text": [
      "/tmp/ipykernel_296044/357602382.py:5: FutureWarning: A value is trying to be set on a copy of a DataFrame or Series through chained assignment using an inplace method.\n",
      "The behavior will change in pandas 3.0. This inplace method will never work because the intermediate object on which we are setting values always behaves as a copy.\n",
      "\n",
      "For example, when doing 'df[col].method(value, inplace=True)', try using 'df.method({col: value}, inplace=True)' or df[col] = df[col].method(value) instead, to perform the operation inplace on the original object.\n",
      "\n",
      "\n",
      "  base_df[column].replace(dic_brncntr_ctzcntr_dscrgrp_health_sclact_gndr, inplace=True)\n",
      "/tmp/ipykernel_296044/357602382.py:5: SettingWithCopyWarning: \n",
      "A value is trying to be set on a copy of a slice from a DataFrame\n",
      "\n",
      "See the caveats in the documentation: https://pandas.pydata.org/pandas-docs/stable/user_guide/indexing.html#returning-a-view-versus-a-copy\n",
      "  base_df[column].replace(dic_brncntr_ctzcntr_dscrgrp_health_sclact_gndr, inplace=True)\n"
     ]
    }
   ],
   "source": [
    "dic_brncntr_ctzcntr_dscrgrp_health_sclact_gndr = {7: np.nan, 8: np.nan, 9: np.nan}\n",
    "columns = ['brncntr','ctzcntr','dscrgrp','health','sclact','gndr']\n",
    "\n",
    "for column in columns:\n",
    "    base_df[column].replace(dic_brncntr_ctzcntr_dscrgrp_health_sclact_gndr, inplace=True)\n",
    "\n",
    "# #dic for `rlgdgr` `inprdsc` `sclmeet`\n",
    "# dic_rlgdgr_inprdsc_sclmeet = {77: np.nan, 88: np.nan, 99: np.nan}\n",
    "# df_encoded.loc(axis=1)['rlgdgr','inprdsc','sclmeet','happy'].replace(\n",
    "#     dic_rlgdgr_inprdsc_sclmeet, inplace=True)"
   ]
  },
  {
   "cell_type": "code",
   "execution_count": 24,
   "metadata": {},
   "outputs": [
    {
     "data": {
      "text/html": [
       "<div>\n",
       "<style scoped>\n",
       "    .dataframe tbody tr th:only-of-type {\n",
       "        vertical-align: middle;\n",
       "    }\n",
       "\n",
       "    .dataframe tbody tr th {\n",
       "        vertical-align: top;\n",
       "    }\n",
       "\n",
       "    .dataframe thead th {\n",
       "        text-align: right;\n",
       "    }\n",
       "</style>\n",
       "<table border=\"1\" class=\"dataframe\">\n",
       "  <thead>\n",
       "    <tr style=\"text-align: right;\">\n",
       "      <th></th>\n",
       "      <th>cntry</th>\n",
       "      <th>gndr</th>\n",
       "      <th>sclmeet</th>\n",
       "      <th>inprdsc</th>\n",
       "      <th>sclact</th>\n",
       "      <th>health</th>\n",
       "      <th>rlgdgr</th>\n",
       "      <th>dscrgrp</th>\n",
       "      <th>ctzcntr</th>\n",
       "      <th>brncntr</th>\n",
       "      <th>happy</th>\n",
       "    </tr>\n",
       "  </thead>\n",
       "  <tbody>\n",
       "    <tr>\n",
       "      <th>0</th>\n",
       "      <td>BE</td>\n",
       "      <td>2</td>\n",
       "      <td>5</td>\n",
       "      <td>2</td>\n",
       "      <td>2.0</td>\n",
       "      <td>2.0</td>\n",
       "      <td>7</td>\n",
       "      <td>1.0</td>\n",
       "      <td>1.0</td>\n",
       "      <td>1.0</td>\n",
       "      <td>7</td>\n",
       "    </tr>\n",
       "    <tr>\n",
       "      <th>1</th>\n",
       "      <td>BE</td>\n",
       "      <td>2</td>\n",
       "      <td>4</td>\n",
       "      <td>4</td>\n",
       "      <td>2.0</td>\n",
       "      <td>2.0</td>\n",
       "      <td>4</td>\n",
       "      <td>2.0</td>\n",
       "      <td>1.0</td>\n",
       "      <td>2.0</td>\n",
       "      <td>6</td>\n",
       "    </tr>\n",
       "    <tr>\n",
       "      <th>2</th>\n",
       "      <td>BE</td>\n",
       "      <td>1</td>\n",
       "      <td>4</td>\n",
       "      <td>2</td>\n",
       "      <td>1.0</td>\n",
       "      <td>2.0</td>\n",
       "      <td>0</td>\n",
       "      <td>2.0</td>\n",
       "      <td>2.0</td>\n",
       "      <td>2.0</td>\n",
       "      <td>8</td>\n",
       "    </tr>\n",
       "    <tr>\n",
       "      <th>3</th>\n",
       "      <td>BE</td>\n",
       "      <td>1</td>\n",
       "      <td>5</td>\n",
       "      <td>3</td>\n",
       "      <td>2.0</td>\n",
       "      <td>1.0</td>\n",
       "      <td>5</td>\n",
       "      <td>2.0</td>\n",
       "      <td>2.0</td>\n",
       "      <td>2.0</td>\n",
       "      <td>10</td>\n",
       "    </tr>\n",
       "    <tr>\n",
       "      <th>4</th>\n",
       "      <td>BE</td>\n",
       "      <td>1</td>\n",
       "      <td>6</td>\n",
       "      <td>4</td>\n",
       "      <td>2.0</td>\n",
       "      <td>1.0</td>\n",
       "      <td>1</td>\n",
       "      <td>2.0</td>\n",
       "      <td>2.0</td>\n",
       "      <td>2.0</td>\n",
       "      <td>7</td>\n",
       "    </tr>\n",
       "    <tr>\n",
       "      <th>...</th>\n",
       "      <td>...</td>\n",
       "      <td>...</td>\n",
       "      <td>...</td>\n",
       "      <td>...</td>\n",
       "      <td>...</td>\n",
       "      <td>...</td>\n",
       "      <td>...</td>\n",
       "      <td>...</td>\n",
       "      <td>...</td>\n",
       "      <td>...</td>\n",
       "      <td>...</td>\n",
       "    </tr>\n",
       "    <tr>\n",
       "      <th>37606</th>\n",
       "      <td>SK</td>\n",
       "      <td>1</td>\n",
       "      <td>3</td>\n",
       "      <td>1</td>\n",
       "      <td>2.0</td>\n",
       "      <td>3.0</td>\n",
       "      <td>8</td>\n",
       "      <td>2.0</td>\n",
       "      <td>1.0</td>\n",
       "      <td>1.0</td>\n",
       "      <td>5</td>\n",
       "    </tr>\n",
       "    <tr>\n",
       "      <th>37607</th>\n",
       "      <td>SK</td>\n",
       "      <td>1</td>\n",
       "      <td>7</td>\n",
       "      <td>1</td>\n",
       "      <td>3.0</td>\n",
       "      <td>2.0</td>\n",
       "      <td>1</td>\n",
       "      <td>2.0</td>\n",
       "      <td>1.0</td>\n",
       "      <td>1.0</td>\n",
       "      <td>8</td>\n",
       "    </tr>\n",
       "    <tr>\n",
       "      <th>37608</th>\n",
       "      <td>SK</td>\n",
       "      <td>1</td>\n",
       "      <td>3</td>\n",
       "      <td>3</td>\n",
       "      <td>3.0</td>\n",
       "      <td>2.0</td>\n",
       "      <td>8</td>\n",
       "      <td>2.0</td>\n",
       "      <td>1.0</td>\n",
       "      <td>1.0</td>\n",
       "      <td>7</td>\n",
       "    </tr>\n",
       "    <tr>\n",
       "      <th>37609</th>\n",
       "      <td>SK</td>\n",
       "      <td>2</td>\n",
       "      <td>6</td>\n",
       "      <td>1</td>\n",
       "      <td>4.0</td>\n",
       "      <td>2.0</td>\n",
       "      <td>3</td>\n",
       "      <td>NaN</td>\n",
       "      <td>2.0</td>\n",
       "      <td>1.0</td>\n",
       "      <td>7</td>\n",
       "    </tr>\n",
       "    <tr>\n",
       "      <th>37610</th>\n",
       "      <td>SK</td>\n",
       "      <td>2</td>\n",
       "      <td>4</td>\n",
       "      <td>0</td>\n",
       "      <td>3.0</td>\n",
       "      <td>1.0</td>\n",
       "      <td>6</td>\n",
       "      <td>2.0</td>\n",
       "      <td>1.0</td>\n",
       "      <td>1.0</td>\n",
       "      <td>7</td>\n",
       "    </tr>\n",
       "  </tbody>\n",
       "</table>\n",
       "<p>37611 rows × 11 columns</p>\n",
       "</div>"
      ],
      "text/plain": [
       "      cntry  gndr  sclmeet  inprdsc  sclact  health  rlgdgr  dscrgrp  ctzcntr  \\\n",
       "0        BE     2        5        2     2.0     2.0       7      1.0      1.0   \n",
       "1        BE     2        4        4     2.0     2.0       4      2.0      1.0   \n",
       "2        BE     1        4        2     1.0     2.0       0      2.0      2.0   \n",
       "3        BE     1        5        3     2.0     1.0       5      2.0      2.0   \n",
       "4        BE     1        6        4     2.0     1.0       1      2.0      2.0   \n",
       "...     ...   ...      ...      ...     ...     ...     ...      ...      ...   \n",
       "37606    SK     1        3        1     2.0     3.0       8      2.0      1.0   \n",
       "37607    SK     1        7        1     3.0     2.0       1      2.0      1.0   \n",
       "37608    SK     1        3        3     3.0     2.0       8      2.0      1.0   \n",
       "37609    SK     2        6        1     4.0     2.0       3      NaN      2.0   \n",
       "37610    SK     2        4        0     3.0     1.0       6      2.0      1.0   \n",
       "\n",
       "       brncntr  happy  \n",
       "0          1.0      7  \n",
       "1          2.0      6  \n",
       "2          2.0      8  \n",
       "3          2.0     10  \n",
       "4          2.0      7  \n",
       "...        ...    ...  \n",
       "37606      1.0      5  \n",
       "37607      1.0      8  \n",
       "37608      1.0      7  \n",
       "37609      1.0      7  \n",
       "37610      1.0      7  \n",
       "\n",
       "[37611 rows x 11 columns]"
      ]
     },
     "execution_count": 24,
     "metadata": {},
     "output_type": "execute_result"
    }
   ],
   "source": [
    "base_df"
   ]
  },
  {
   "cell_type": "code",
   "execution_count": 21,
   "metadata": {},
   "outputs": [
    {
     "data": {
      "text/plain": [
       "cntry        0\n",
       "gndr         0\n",
       "sclmeet      0\n",
       "inprdsc      0\n",
       "sclact     598\n",
       "health      44\n",
       "rlgdgr       0\n",
       "dscrgrp    501\n",
       "ctzcntr     68\n",
       "brncntr     40\n",
       "happy        0\n",
       "dtype: int64"
      ]
     },
     "execution_count": 21,
     "metadata": {},
     "output_type": "execute_result"
    }
   ],
   "source": [
    "base_df.isnull().sum()"
   ]
  },
  {
   "cell_type": "code",
   "execution_count": 23,
   "metadata": {},
   "outputs": [
    {
     "name": "stdout",
     "output_type": "stream",
     "text": [
      "<class 'pandas.core.frame.DataFrame'>\n",
      "RangeIndex: 37611 entries, 0 to 37610\n",
      "Data columns (total 11 columns):\n",
      " #   Column   Non-Null Count  Dtype  \n",
      "---  ------   --------------  -----  \n",
      " 0   cntry    37611 non-null  object \n",
      " 1   gndr     37611 non-null  int64  \n",
      " 2   sclmeet  37611 non-null  int64  \n",
      " 3   inprdsc  37611 non-null  int64  \n",
      " 4   sclact   37013 non-null  float64\n",
      " 5   health   37567 non-null  float64\n",
      " 6   rlgdgr   37611 non-null  int64  \n",
      " 7   dscrgrp  37110 non-null  float64\n",
      " 8   ctzcntr  37543 non-null  float64\n",
      " 9   brncntr  37571 non-null  float64\n",
      " 10  happy    37611 non-null  int64  \n",
      "dtypes: float64(5), int64(5), object(1)\n",
      "memory usage: 3.2+ MB\n"
     ]
    }
   ],
   "source": [
    "base_df.info()"
   ]
  },
  {
   "cell_type": "markdown",
   "metadata": {},
   "source": [
    "###### `sclmeet` category = How often socially meet with friends, relatives or colleagues 1-7 refusal =77, dontknow = 88, no answer = 99\n",
    "###### `inprdsc` category = How many people with whom you can discuss intimate and personal matters 0-6 refusal =77, dontknow = 88, no answer= 99\n",
    "###### `sclact` category = Take part in social activities compared to others of same age, 1-5 refusal = 7, dont know =8 , no answer =9\n",
    "###### `health` category = Subjective general health 1-5 refusal = 7, dont know =8 , no answer =9\n",
    "###### `rlgdgr` category = How religious are you  0-10 77 88 99\n",
    "\n",
    "###### `dscrgrp` category = Member of a group discriminated against in this country, , yes, no , refusal(7), 8(dont know), 9(no answer)\n",
    "###### `ctzcntr` category = Citizen of country, yes, no , refusal(7), 8(dont know), 9(no answer)\n",
    "###### `brncntr` category = Born in country, yes, no , refusal(7), 8(dont know), 9(no answer)\n",
    "###### `gndr` category = 1,2 no answer = 9\n",
    "###### `Country` category"
   ]
  },
  {
   "cell_type": "code",
   "execution_count": null,
   "metadata": {},
   "outputs": [],
   "source": [
    "from sklearn.impute import SimpleImputer# Instantiate a SimpleImputer object with your strategy of choice\n",
    "imputer = SimpleImputer(strategy=\"median\")\n",
    "# Call the \"fit\" method on the object\n",
    "imputer.fit(base_df)# Call the \"transform\" method on the object\n",
    "data['RoofSurface'] = imputer.transform(data[['RoofSurface']])# The mean is stored in the transformer's memory\n",
    "imputer.statistics_"
   ]
  },
  {
   "cell_type": "code",
   "execution_count": null,
   "metadata": {},
   "outputs": [],
   "source": [
    "encoder = OneHotEncoder()\n",
    "encoded_countries = encoder.fit_transform(base_df[['cntry']]).toarray()\n",
    "df_encoded = pd.concat([base_df.drop('cntry', axis=1), pd.DataFrame(encoded_countries, columns=encoder.get_feature_names_out())], axis=1)\n",
    "df_encoded"
   ]
  },
  {
   "cell_type": "code",
   "execution_count": null,
   "metadata": {},
   "outputs": [],
   "source": [
    "encoder = OneHotEncoder()\n",
    "encoded_countries = encoder.fit_transform(base_df[['cntry']]).toarray()\n",
    "df_encoded = pd.concat([base_df.drop('cntry', axis=1), pd.DataFrame(encoded_countries, columns=encoder.get_feature_names_out())], axis=1)\n",
    "\n",
    "#handle missing values\n",
    "\n",
    "#dic for `brncntr` `ctzcntr` `dscrgrp` `health` `sclact` `gndr`\n",
    "dic_brncntr_ctzcntr_dscrgrp_health_sclact_gndr = {7: np.nan, 8: np.nan, 9: np.nan}\n",
    "df_encoded.loc(axis=1)['brncntr','ctzcntr','dscrgrp','health','sclact','gndr'].replace(\n",
    "    dic_brncntr_ctzcntr_dscrgrp_health_sclact_gndr, inplace=True\n",
    ")\n",
    "#dic for `rlgdgr` `inprdsc` `sclmeet`\n",
    "dic_rlgdgr_inprdsc_sclmeet = {77: np.nan, 88: np.nan, 99: np.nan}\n",
    "df_encoded.loc(axis=1)['rlgdgr','inprdsc','sclmeet','happy'].replace(\n",
    "    dic_rlgdgr_inprdsc_sclmeet, inplace=True)"
   ]
  },
  {
   "cell_type": "code",
   "execution_count": null,
   "metadata": {},
   "outputs": [],
   "source": [
    "df_encoded.isnull().sum().sort_values(ascending=False)"
   ]
  },
  {
   "cell_type": "code",
   "execution_count": null,
   "metadata": {},
   "outputs": [],
   "source": [
    "# encoder = OneHotEncoder()\n",
    "# encoded_countries = encoder.fit_transform(base_df[['cntry']]).toarray()\n",
    "# df_encoded = pd.concat([base_df.drop('cntry', axis=1), pd.DataFrame(encoded_countries, columns=encoder.get_feature_names_out())], axis=1)\n",
    "\n",
    "# #handle missing values\n",
    "\n",
    "# #dic for `brncntr` `ctzcntr` `dscrgrp` `health` `sclact` `gndr`\n",
    "# dic_brncntr_ctzcntr_dscrgrp_health_sclact_gndr = {7: np.nan, 8: np.nan, 9: np.nan}\n",
    "# df_encoded.loc(axis=1)['brncntr','ctzcntr','dscrgrp','health','sclact','gndr'].replace(\n",
    "#     dic_brncntr_ctzcntr_dscrgrp_health_sclact_gndr, inplace=True\n",
    "# )\n",
    "# #dic for `rlgdgr` `inprdsc` `sclmeet`\n",
    "# dic_rlgdgr_inprdsc_sclmeet = {77: np.nan, 88: np.nan, 99: np.nan}\n",
    "# df_encoded.loc(axis=1)['rlgdgr','inprdsc','sclmeet','happy'].replace(\n",
    "#     dic_rlgdgr_inprdsc_sclmeet, inplace=True)\n",
    "\n",
    "# Scale numerical features\n",
    "\n",
    "scaler = MinMaxScaler()  # or MinMax\n",
    "scaled_columns = ['sclmeet', 'inprdsc', 'sclact', 'health', 'rlgdgr']\n",
    "df_encoded[scaled_columns] = scaler.fit_transform(df_encoded[scaled_columns])\n",
    "\n",
    "# Target and split\n",
    "X = df_encoded.drop('happy', axis=1)\n",
    "y = df_encoded['happy']\n",
    "\n",
    "X_train, X_test, y_train, y_test = train_test_split(X, y, test_size=0.2, random_state=42)\n",
    "\n",
    "# # simple model\n",
    "model = LinearRegression()\n",
    "\n",
    "# # Train the baseline model\n",
    "model.fit(X_train, y_train)\n"
   ]
  },
  {
   "cell_type": "code",
   "execution_count": null,
   "metadata": {},
   "outputs": [],
   "source": [
    "from sklearn.metrics import mean_squared_error, mean_absolute_error, r2_score\n",
    "\n",
    "# Predict happiness scores for the test set\n",
    "y_pred = model.predict(X_test)\n",
    "\n",
    "# Calculate RMSE\n",
    "rmse = mean_squared_error(y_test, y_pred, squared=False)\n",
    "\n",
    "# Calculate MAE\n",
    "mae = mean_absolute_error(y_test, y_pred)\n",
    "\n",
    "# Calculate R^2 Score\n",
    "r2 = r2_score(y_test, y_pred)\n",
    "\n",
    "print(f'RMSE: {rmse}')\n",
    "print(f'MAE: {mae}')\n",
    "print(f'R^2 Score: {r2}')\n"
   ]
  },
  {
   "cell_type": "code",
   "execution_count": null,
   "metadata": {},
   "outputs": [],
   "source": [
    "from sklearn.model_selection import cross_validate\n",
    "model = LinearRegression()\n",
    "scores = cross_validate(model, X, y, cv=5)  # specifying scoring method\n",
    "\n",
    "# Convert scores to positive values and then take the square root to get RMSE\n",
    "rmse_scores = np.sqrt(-scores['test_score'])\n",
    "average_rmse = np.mean(rmse_scores)\n",
    "average_rmse"
   ]
  },
  {
   "cell_type": "code",
   "execution_count": null,
   "metadata": {},
   "outputs": [],
   "source": [
    "import matplotlib.pyplot as plt\n",
    "\n",
    "model.fit(X_train, y_train)\n",
    "y_pred_train = model.predict(X_train)\n",
    "\n",
    "residuals = y_train - y_pred_train\n",
    "\n",
    "plt.scatter(y_pred_train, residuals)\n",
    "plt.hlines(y=0, xmin=y_pred_train.min(), xmax=y_pred_train.max(), colors='red', linestyles='--')\n",
    "plt.xlabel('Predicted Values')\n",
    "plt.ylabel('Residuals')\n",
    "plt.title('Residual Plot')\n",
    "plt.show()\n"
   ]
  },
  {
   "cell_type": "code",
   "execution_count": null,
   "metadata": {},
   "outputs": [],
   "source": [
    "base_df = df[['cntry', 'gndr','sclmeet','inprdsc','sclact','health','rlgdgr','dscrgrp','ctzcntr', 'brncntr', 'happy']]\n",
    "features = base_df.drop('happy', axis=1)\n",
    "target= base_df['happy']"
   ]
  },
  {
   "cell_type": "code",
   "execution_count": null,
   "metadata": {},
   "outputs": [],
   "source": [
    "plt.scatter(features, target)\n",
    "plt.xlabel('Feature')\n",
    "plt.ylabel('Target')\n",
    "plt.title('Scatter Plot of Feature vs Target')\n",
    "plt.show()"
   ]
  },
  {
   "cell_type": "code",
   "execution_count": null,
   "metadata": {},
   "outputs": [],
   "source": []
  }
 ],
 "metadata": {
  "kernelspec": {
   "display_name": "how-happy-in-europe",
   "language": "python",
   "name": "python3"
  },
  "language_info": {
   "codemirror_mode": {
    "name": "ipython",
    "version": 3
   },
   "file_extension": ".py",
   "mimetype": "text/x-python",
   "name": "python",
   "nbconvert_exporter": "python",
   "pygments_lexer": "ipython3",
   "version": "3.10.6"
  }
 },
 "nbformat": 4,
 "nbformat_minor": 2
}
