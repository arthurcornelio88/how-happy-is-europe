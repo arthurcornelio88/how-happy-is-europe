{
 "cells": [
  {
   "cell_type": "markdown",
   "metadata": {},
   "source": [
    "## Starting with 10 features"
   ]
  },
  {
   "cell_type": "code",
   "execution_count": null,
   "metadata": {},
   "outputs": [],
   "source": [
    "import pandas as pd\n",
    "import numpy as np\n",
    "from sklearn.model_selection import train_test_split\n",
    "from sklearn.preprocessing import OneHotEncoder, StandardScaler, MinMaxScaler\n",
    "from sklearn.linear_model import LinearRegression\n",
    "from sklearn.metrics import mean_squared_error\n",
    "from sklearn.impute import SimpleImputer\n",
    "import xgboost as xgb\n",
    "from sklearn.metrics import accuracy_score\n"
   ]
  },
  {
   "cell_type": "code",
   "execution_count": null,
   "metadata": {},
   "outputs": [],
   "source": [
    "df = pd.read_csv(\"../data/ESS10/ESS10.csv\")"
   ]
  },
  {
   "cell_type": "markdown",
   "metadata": {},
   "source": [
    "| feature | min     | max       | *          |\n",
    "| ------- | ------- | --------- | ---------- |\n",
    "| sclmeet | 1       | 7         | 77, 88, 99 |\n",
    "| inprdsc | 0       | 6         | 77, 88, 99 |\n",
    "| sclact  | 1       | 5         | 7, 8, 9    |\n",
    "| health  | 1       | 5         | 7, 8, 9    |\n",
    "| rlgdgr  | 0       | 10        | 77, 88, 99 |\n",
    "| dscrgrp | 1(yes)  | 2(no)     | 7, 8, 9    |\n",
    "| ctzcntr | 1(yes)  | 2(no)     | 7, 8, 9    |\n",
    "| brncntr | 1(yes)  | 2(no)     | 7, 8, 9    |\n",
    "| gndr    | 1(male) | 0(female) | 9          |\n",
    "\n"
   ]
  },
  {
   "cell_type": "code",
   "execution_count": null,
   "metadata": {},
   "outputs": [],
   "source": [
    "def feature_scale_map(df, feature):\n",
    "    map_dict = {}\n",
    "\n",
    "    all_vals = np.sort(df[feature].unique())\n",
    "\n",
    "    if np.any(all_vals[1:] - all_vals[0:-1] > 1):\n",
    "        min_ind = np.where(all_vals[1:] - all_vals[0:-1] > 1)[0][0]\n",
    "        vals = all_vals[:min_ind].copy()\n",
    "        min_val = vals.min()\n",
    "        if min_val == 1:\n",
    "            vals = vals - 1\n",
    "        for i, val in enumerate(all_vals[:-1]):\n",
    "            map_dict[val] = i\n",
    "        map_dict[all_vals[-1]] = -1\n",
    "        df[feature] = df[feature].replace(map_dict)\n",
    "    else:\n",
    "        for i, val in enumerate(all_vals):\n",
    "            map_dict[val] = i\n",
    "        df[feature] = df[feature].replace(map_dict)"
   ]
  },
  {
   "cell_type": "code",
   "execution_count": null,
   "metadata": {},
   "outputs": [],
   "source": [
    "base_df = df[\n",
    "    ['cntry', 'gndr','sclmeet',\n",
    "     'inprdsc','sclact','health',\n",
    "     'rlgdgr','dscrgrp','ctzcntr',\n",
    "     'brncntr', 'happy']\n",
    "]\n",
    "\n",
    "\n",
    "mask = base_df[\"happy\"].isin([77, 88, 99])\n",
    "base_df = base_df[~mask].reset_index(drop=True)\n",
    "\n",
    "for col in base_df.columns[1:]:\n",
    "    feature_scale_map(base_df, col)\n"
   ]
  },
  {
   "cell_type": "code",
   "execution_count": null,
   "metadata": {},
   "outputs": [],
   "source": [
    "minmax = MinMaxScaler()\n",
    "base_df_scaled = minmax.fit_transform(base_df[base_df.columns[1:-1]])\n",
    "base_df_scaled = pd.DataFrame(base_df_scaled, columns=base_df.columns[1:-1])"
   ]
  },
  {
   "cell_type": "code",
   "execution_count": null,
   "metadata": {},
   "outputs": [],
   "source": [
    "encoder = OneHotEncoder()\n",
    "encoded_countries = encoder.fit_transform(base_df[['cntry']]).toarray()\n",
    "df_encoded = pd.concat(\n",
    "    [pd.DataFrame(encoded_countries, columns=encoder.get_feature_names_out()),\n",
    "     base_df_scaled,\n",
    "     base_df[\"happy\"]\n",
    "    ],\n",
    "    axis=1)\n",
    "df_encoded = df_encoded.astype(float)\n",
    "df_encoded.head()"
   ]
  },
  {
   "cell_type": "code",
   "execution_count": null,
   "metadata": {},
   "outputs": [],
   "source": [
    "X = df_encoded.drop(\"happy\", axis=1).copy()\n",
    "y = df_encoded[\"happy\"].copy()\n",
    "\n",
    "X_train, X_test, y_train, y_test = train_test_split(\n",
    "    X, y, random_state=0, test_size=0.2\n",
    ")"
   ]
  },
  {
   "cell_type": "code",
   "execution_count": null,
   "metadata": {},
   "outputs": [],
   "source": [
    "clf = xgb.XGBClassifier(\n",
    "    objective='multi:softprob',\n",
    "    num_class=len(set(y)),\n",
    "    eval_metric='mlogloss',\n",
    ")\n",
    "\n",
    "# Fit the classifier to the training data\n",
    "clf.fit(X_train, y_train)\n",
    "\n",
    "# Predict the labels of the test set\n",
    "y_pred = clf.predict(X_test)\n",
    "\n",
    "# Calculate the accuracy of the predictions\n",
    "accuracy = accuracy_score(y_test, y_pred)\n",
    "print(f\"Accuracy: {accuracy * 100:.2f}%\")"
   ]
  }
 ],
 "metadata": {
  "kernelspec": {
   "display_name": "how-happy-in-europe",
   "language": "python",
   "name": "python3"
  },
  "language_info": {
   "codemirror_mode": {
    "name": "ipython",
    "version": 3
   },
   "file_extension": ".py",
   "mimetype": "text/x-python",
   "name": "python",
   "nbconvert_exporter": "python",
   "pygments_lexer": "ipython3",
   "version": "3.10.6"
  }
 },
 "nbformat": 4,
 "nbformat_minor": 2
}
