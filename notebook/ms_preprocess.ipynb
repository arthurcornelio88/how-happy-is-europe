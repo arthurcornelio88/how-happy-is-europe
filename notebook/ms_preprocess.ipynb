{
 "cells": [
  {
   "cell_type": "markdown",
   "metadata": {},
   "source": [
    "## Starting with 10 features"
   ]
  },
  {
   "cell_type": "code",
   "execution_count": null,
   "metadata": {},
   "outputs": [],
   "source": [
    "import pandas as pd\n",
    "import numpy as np\n",
    "from sklearn.model_selection import train_test_split\n",
    "from sklearn.preprocessing import OneHotEncoder, StandardScaler, MinMaxScaler\n",
    "from sklearn.linear_model import LinearRegression\n",
    "from sklearn.metrics import mean_squared_error\n",
    "from sklearn.impute import SimpleImputer\n"
   ]
  },
  {
   "cell_type": "code",
   "execution_count": null,
   "metadata": {},
   "outputs": [],
   "source": [
    "df = pd.read_csv(\"../data/ESS10/ESS10.csv\")\n"
   ]
  },
  {
   "cell_type": "code",
   "execution_count": null,
   "metadata": {},
   "outputs": [],
   "source": [
    "base_df = df[['cntry', 'gndr','sclmeet','inprdsc','sclact','health','rlgdgr','dscrgrp','ctzcntr', 'brncntr', 'happy']]"
   ]
  },
  {
   "cell_type": "code",
   "execution_count": null,
   "metadata": {},
   "outputs": [],
   "source": [
    "dic_brncntr_ctzcntr_dscrgrp_health_sclact_gndr = {7: np.nan, 8: np.nan, 9: np.nan}\n",
    "columns = ['dscrgrp','health','sclact','gndr']\n",
    "\n",
    "for column in columns:\n",
    "    base_df[column] = base_df[column].map(dic_brncntr_ctzcntr_dscrgrp_health_sclact_gndr)\n",
    "\n",
    "# #dic for `rlgdgr` `inprdsc` `sclmeet`\n",
    "# dic_rlgdgr_inprdsc_sclmeet = {77: np.nan, 88: np.nan, 99: np.nan}\n",
    "# df_encoded.loc(axis=1)['rlgdgr','inprdsc','sclmeet','happy'].replace(\n",
    "#     dic_rlgdgr_inprdsc_sclmeet, inplace=True)"
   ]
  },
  {
   "cell_type": "code",
   "execution_count": null,
   "metadata": {},
   "outputs": [],
   "source": [
    "base_df.isnull().sum()"
   ]
  },
  {
   "cell_type": "code",
   "execution_count": null,
   "metadata": {},
   "outputs": [],
   "source": [
    "base_df.info()"
   ]
  },
  {
   "cell_type": "markdown",
   "metadata": {},
   "source": [
    "###### `sclmeet` category = How often socially meet with friends, relatives or colleagues 1-7 refusal =77, dontknow = 88, no answer = 99\n",
    "###### `inprdsc` category = How many people with whom you can discuss intimate and personal matters 0-6 refusal =77, dontknow = 88, no answer= 99\n",
    "###### `sclact` category = Take part in social activities compared to others of same age, 1-5 refusal = 7, dont know =8 , no answer =9\n",
    "###### `health` category = Subjective general health 1-5 refusal = 7, dont know =8 , no answer =9\n",
    "###### `rlgdgr` category = How religious are you  0-10 77 88 99\n",
    "\n",
    "###### `dscrgrp` category = Member of a group discriminated against in this country, , yes, no , refusal(7), 8(dont know), 9(no answer)\n",
    "###### `ctzcntr` category = Citizen of country, yes, no , refusal(7), 8(dont know), 9(no answer)\n",
    "###### `brncntr` category = Born in country, yes, no , refusal(7), 8(dont know), 9(no answer)\n",
    "###### `gndr` category = 1,2 no answer = 9\n",
    "###### `Country` category"
   ]
  },
  {
   "cell_type": "code",
   "execution_count": null,
   "metadata": {},
   "outputs": [],
   "source": [
    "from sklearn.impute import SimpleImputer# Instantiate a SimpleImputer object with your strategy of choice\n",
    "imputer = SimpleImputer(strategy=\"median\")\n",
    "# Call the \"fit\" method on the object\n",
    "imputer.fit(base_df)# Call the \"transform\" method on the object\n",
    "data['RoofSurface'] = imputer.transform(data[['RoofSurface']])# The mean is stored in the transformer's memory\n",
    "imputer.statistics_"
   ]
  },
  {
   "cell_type": "code",
   "execution_count": null,
   "metadata": {},
   "outputs": [],
   "source": [
    "encoder = OneHotEncoder()\n",
    "encoded_countries = encoder.fit_transform(base_df[['cntry']]).toarray()\n",
    "df_encoded = pd.concat([base_df.drop('cntry', axis=1), pd.DataFrame(encoded_countries, columns=encoder.get_feature_names_out())], axis=1)\n",
    "df_encoded"
   ]
  },
  {
   "cell_type": "code",
   "execution_count": null,
   "metadata": {},
   "outputs": [],
   "source": [
    "encoder = OneHotEncoder()\n",
    "encoded_countries = encoder.fit_transform(base_df[['cntry']]).toarray()\n",
    "df_encoded = pd.concat([base_df.drop('cntry', axis=1), pd.DataFrame(encoded_countries, columns=encoder.get_feature_names_out())], axis=1)\n",
    "\n",
    "#handle missing values\n",
    "\n",
    "#dic for `brncntr` `ctzcntr` `dscrgrp` `health` `sclact` `gndr`\n",
    "dic_brncntr_ctzcntr_dscrgrp_health_sclact_gndr = {7: np.nan, 8: np.nan, 9: np.nan}\n",
    "df_encoded.loc(axis=1)['brncntr','ctzcntr','dscrgrp','health','sclact','gndr'].replace(\n",
    "    dic_brncntr_ctzcntr_dscrgrp_health_sclact_gndr, inplace=True\n",
    ")\n",
    "#dic for `rlgdgr` `inprdsc` `sclmeet`\n",
    "dic_rlgdgr_inprdsc_sclmeet = {77: np.nan, 88: np.nan, 99: np.nan}\n",
    "df_encoded.loc(axis=1)['rlgdgr','inprdsc','sclmeet','happy'].replace(\n",
    "    dic_rlgdgr_inprdsc_sclmeet, inplace=True)"
   ]
  },
  {
   "cell_type": "code",
   "execution_count": null,
   "metadata": {},
   "outputs": [],
   "source": [
    "df_encoded.isnull().sum().sort_values(ascending=False)"
   ]
  },
  {
   "cell_type": "code",
   "execution_count": null,
   "metadata": {},
   "outputs": [],
   "source": [
    "# encoder = OneHotEncoder()\n",
    "# encoded_countries = encoder.fit_transform(base_df[['cntry']]).toarray()\n",
    "# df_encoded = pd.concat([base_df.drop('cntry', axis=1), pd.DataFrame(encoded_countries, columns=encoder.get_feature_names_out())], axis=1)\n",
    "\n",
    "# #handle missing values\n",
    "\n",
    "# #dic for `brncntr` `ctzcntr` `dscrgrp` `health` `sclact` `gndr`\n",
    "# dic_brncntr_ctzcntr_dscrgrp_health_sclact_gndr = {7: np.nan, 8: np.nan, 9: np.nan}\n",
    "# df_encoded.loc(axis=1)['brncntr','ctzcntr','dscrgrp','health','sclact','gndr'].replace(\n",
    "#     dic_brncntr_ctzcntr_dscrgrp_health_sclact_gndr, inplace=True\n",
    "# )\n",
    "# #dic for `rlgdgr` `inprdsc` `sclmeet`\n",
    "# dic_rlgdgr_inprdsc_sclmeet = {77: np.nan, 88: np.nan, 99: np.nan}\n",
    "# df_encoded.loc(axis=1)['rlgdgr','inprdsc','sclmeet','happy'].replace(\n",
    "#     dic_rlgdgr_inprdsc_sclmeet, inplace=True)\n",
    "\n",
    "# Scale numerical features\n",
    "\n",
    "scaler = MinMaxScaler()  # or MinMax\n",
    "scaled_columns = ['sclmeet', 'inprdsc', 'sclact', 'health', 'rlgdgr']\n",
    "df_encoded[scaled_columns] = scaler.fit_transform(df_encoded[scaled_columns])\n",
    "\n",
    "# Target and split\n",
    "X = df_encoded.drop('happy', axis=1)\n",
    "y = df_encoded['happy']\n",
    "\n",
    "X_train, X_test, y_train, y_test = train_test_split(X, y, test_size=0.2, random_state=42)\n",
    "\n",
    "# # simple model\n",
    "model = LinearRegression()\n",
    "\n",
    "# # Train the baseline model\n",
    "model.fit(X_train, y_train)\n"
   ]
  },
  {
   "cell_type": "code",
   "execution_count": null,
   "metadata": {},
   "outputs": [],
   "source": [
    "from sklearn.metrics import mean_squared_error, mean_absolute_error, r2_score\n",
    "\n",
    "# Predict happiness scores for the test set\n",
    "y_pred = model.predict(X_test)\n",
    "\n",
    "# Calculate RMSE\n",
    "rmse = mean_squared_error(y_test, y_pred, squared=False)\n",
    "\n",
    "# Calculate MAE\n",
    "mae = mean_absolute_error(y_test, y_pred)\n",
    "\n",
    "# Calculate R^2 Score\n",
    "r2 = r2_score(y_test, y_pred)\n",
    "\n",
    "print(f'RMSE: {rmse}')\n",
    "print(f'MAE: {mae}')\n",
    "print(f'R^2 Score: {r2}')\n"
   ]
  },
  {
   "cell_type": "code",
   "execution_count": null,
   "metadata": {},
   "outputs": [],
   "source": [
    "from sklearn.model_selection import cross_validate\n",
    "model = LinearRegression()\n",
    "scores = cross_validate(model, X, y, cv=5)  # specifying scoring method\n",
    "\n",
    "# Convert scores to positive values and then take the square root to get RMSE\n",
    "rmse_scores = np.sqrt(-scores['test_score'])\n",
    "average_rmse = np.mean(rmse_scores)\n",
    "average_rmse"
   ]
  },
  {
   "cell_type": "code",
   "execution_count": null,
   "metadata": {},
   "outputs": [],
   "source": [
    "import matplotlib.pyplot as plt\n",
    "\n",
    "model.fit(X_train, y_train)\n",
    "y_pred_train = model.predict(X_train)\n",
    "\n",
    "residuals = y_train - y_pred_train\n",
    "\n",
    "plt.scatter(y_pred_train, residuals)\n",
    "plt.hlines(y=0, xmin=y_pred_train.min(), xmax=y_pred_train.max(), colors='red', linestyles='--')\n",
    "plt.xlabel('Predicted Values')\n",
    "plt.ylabel('Residuals')\n",
    "plt.title('Residual Plot')\n",
    "plt.show()\n"
   ]
  },
  {
   "cell_type": "code",
   "execution_count": null,
   "metadata": {},
   "outputs": [],
   "source": [
    "base_df = df[['cntry', 'gndr','sclmeet','inprdsc','sclact','health','rlgdgr','dscrgrp','ctzcntr', 'brncntr', 'happy']]\n",
    "features = base_df.drop('happy', axis=1)\n",
    "target= base_df['happy']"
   ]
  },
  {
   "cell_type": "code",
   "execution_count": null,
   "metadata": {},
   "outputs": [],
   "source": [
    "plt.scatter(features, target)\n",
    "plt.xlabel('Feature')\n",
    "plt.ylabel('Target')\n",
    "plt.title('Scatter Plot of Feature vs Target')\n",
    "plt.show()"
   ]
  },
  {
   "cell_type": "code",
   "execution_count": null,
   "metadata": {},
   "outputs": [],
   "source": []
  }
 ],
 "metadata": {
  "kernelspec": {
   "display_name": "how-happy-in-europe",
   "language": "python",
   "name": "python3"
  },
  "language_info": {
   "codemirror_mode": {
    "name": "ipython",
    "version": 3
   },
   "file_extension": ".py",
   "mimetype": "text/x-python",
   "name": "python",
   "nbconvert_exporter": "python",
   "pygments_lexer": "ipython3",
   "version": "3.10.6"
  }
 },
 "nbformat": 4,
 "nbformat_minor": 2
}
