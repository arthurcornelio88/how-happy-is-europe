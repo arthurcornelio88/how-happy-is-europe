{
 "cells": [
  {
   "cell_type": "code",
   "execution_count": null,
   "metadata": {},
   "outputs": [],
   "source": [
    "from sklearn.pipeline import Pipeline\n",
    "from sklearn.compose import ColumnTransformer\n",
    "from sklearn.preprocessing import MinMaxScaler, OneHotEncoder\n",
    "from sklearn.model_selection import train_test_split\n",
    "from sklearn.impute import SimpleImputer\n",
    "from xgboost import XGBClassifier\n",
    "from imblearn.pipeline import Pipeline as ImbPipeline\n",
    "from sklearn.metrics import accuracy_score\n",
    "from imblearn.over_sampling import SMOTE\n",
    "import pandas as pd\n",
    "import numpy as np"
   ]
  },
  {
   "cell_type": "markdown",
   "metadata": {},
   "source": [
    "| feature | min     | max       | *          |\n",
    "| ------- | ------- | --------- | ---------- |\n",
    "| sclmeet | 1       | 7         | 77, 88, 99 |\n",
    "| inprdsc | 0       | 6         | 77, 88, 99 |\n",
    "| sclact  | 1       | 5         | 7, 8, 9    |\n",
    "| health  | 1       | 5         | 7, 8, 9    |\n",
    "| rlgdgr  | 0       | 10        | 77, 88, 99 |\n",
    "| dscrgrp | 1(yes)  | 2(no)     | 7, 8, 9    |\n",
    "| ctzcntr | 1(yes)  | 2(no)     | 7, 8, 9    |\n",
    "| brncntr | 1(yes)  | 2(no)     | 7, 8, 9    |\n",
    "| gndr    | 1(male) | 0(female) | 9          |\n"
   ]
  },
  {
   "cell_type": "code",
   "execution_count": null,
   "metadata": {},
   "outputs": [],
   "source": [
    "data = pd.read_csv('/home/mehrshad/code/arthurcornelio88/how-happy-in-europe/data/20240319_ESS10_manually-filtered_arthurcornelio88.csv')\n",
    "data = data.drop(\"Unnamed: 0\", axis=1)\n",
    "data= data.drop(['livecnta','gndr13','yrbrn6','yrbrn7','yrbrn8','yrbrn9','yrbrn10','yrbrn11','yrbrn12','yrbrn13','rshipa8','rshipa9','rshipa10','rshipa11','rshipa12', 'rshipa13',\n",
    "                    'edulvlb','pdjobyr','isco08','edulvlpb','isco08p','wkhtotp','edulvlfb','edulvlfb','edulvlmb','anctry1','anctry2'], axis=1)\n",
    "mask = data[\"happy\"].isin([77, 88, 99])\n",
    "data = data[~mask].reset_index(drop=True)\n",
    "data.head()"
   ]
  },
  {
   "cell_type": "code",
   "execution_count": null,
   "metadata": {},
   "outputs": [],
   "source": [
    "data.info()"
   ]
  },
  {
   "cell_type": "code",
   "execution_count": null,
   "metadata": {},
   "outputs": [],
   "source": [
    "data['sclact'].sort_values().unique()"
   ]
  },
  {
   "cell_type": "code",
   "execution_count": null,
   "metadata": {},
   "outputs": [],
   "source": [
    "def feature_scale_map(df, feature):\n",
    "    map_dict = {}\n",
    "\n",
    "    all_vals = np.sort(df[feature].unique())\n",
    "\n",
    "    if np.any(all_vals[1:] - all_vals[0:-1] > 1):\n",
    "        min_ind = np.where(all_vals[1:] - all_vals[0:-1] > 1)[0][0]\n",
    "        vals = all_vals[:min_ind].copy()\n",
    "        min_val = vals.min()\n",
    "        if min_val == 1:\n",
    "            vals = vals - 1\n",
    "        for i, val in enumerate(all_vals[:-1]):\n",
    "            map_dict[val] = i\n",
    "        map_dict[all_vals[-1]] = -1\n",
    "        df[feature] = df[feature].replace(map_dict)\n",
    "    else:\n",
    "        for i, val in enumerate(all_vals):\n",
    "            map_dict[val] = i\n",
    "        df[feature] = df[feature].replace(map_dict)"
   ]
  },
  {
   "cell_type": "code",
   "execution_count": null,
   "metadata": {},
   "outputs": [],
   "source": [
    "X = data.drop('happy',axis=1)\n",
    "y = data['happy']\n",
    "X_cols = X.select_dtypes(exclude='object')\n",
    "for col in X_cols.columns:\n",
    "    feature_scale_map(X_cols, col)"
   ]
  },
  {
   "cell_type": "code",
   "execution_count": null,
   "metadata": {},
   "outputs": [],
   "source": [
    "numerical_cols = X_cols.columns\n",
    "categorical_cols = X[['cntry', 'ctzcntr', 'brncntr', 'gndr', 'dscrgrp']].columns\n",
    "\n",
    "numerical_imputer = SimpleImputer(strategy='constant')\n",
    "categorical_imputer = SimpleImputer(strategy='constant')\n",
    "\n",
    "numerical_preprocessor = Pipeline(steps=[\n",
    "    ('imputer', numerical_imputer),\n",
    "    ('scaler', MinMaxScaler())\n",
    "])\n",
    "categorical_preprocessor = Pipeline(steps=[\n",
    "    ('imputer', categorical_imputer),\n",
    "    ('encoder', OneHotEncoder(drop='if_binary'))\n",
    "])\n",
    "\n",
    "preprocessor = ColumnTransformer(\n",
    "    transformers=[\n",
    "        ('num', numerical_preprocessor, numerical_cols),\n",
    "        ('cat', categorical_preprocessor, categorical_cols)\n",
    "    ])\n",
    "\n",
    "smote = SMOTE()\n",
    "\n",
    "\n",
    "pipeline = ImbPipeline(steps=[\n",
    "    ('preprocessor', preprocessor),\n",
    "    ('smote', smote),\n",
    "    ('classifier', XGBClassifier(objective='multi:softprob',\n",
    "                                 num_class=len(set(y)),\n",
    "                                 eval_metric='mlogloss'))\n",
    "])\n",
    "\n",
    "X_train, X_test, y_train, y_test = train_test_split(X, y, test_size=0.2, random_state=0)\n",
    "\n",
    "\n",
    "pipeline.fit(X_train, y_train)\n",
    "\n",
    "\n",
    "y_pred = pipeline.predict(X_test)\n",
    "\n",
    "\n",
    "accuracy = accuracy_score(y_test, y_pred)\n",
    "print(f\"Accuracy: {accuracy * 100:.2f}%\")\n"
   ]
  },
  {
   "cell_type": "code",
   "execution_count": null,
   "metadata": {},
   "outputs": [],
   "source": [
    "pipeline.get_params()"
   ]
  },
  {
   "cell_type": "code",
   "execution_count": null,
   "metadata": {},
   "outputs": [],
   "source": [
    "from sklearn.model_selection import GridSearchCV\n",
    "\n",
    "\n",
    "param_grid = {\n",
    "    'classifier__n_estimators': [100, 200],\n",
    "    'classifier__learning_rate': [0.01, 0.1],\n",
    "    'classifier__max_depth': [3, 5, 7],\n",
    "    'classifier__subsample': [0.6, 0.8, 1.0],\n",
    "    'preprocessor__num__imputer__strategy': ['mean', 'median', 'most_frequent'],\n",
    "    'preprocessor__cat__imputer__strategy': ['most_frequent', 'constant']\n",
    "}\n",
    "\n",
    "\n",
    "grid_search = GridSearchCV(pipeline, param_grid, cv=5, scoring='accuracy', verbose=1, n_jobs=-1)\n",
    "\n",
    "\n",
    "X_train, X_test, y_train, y_test = train_test_split(X, y, test_size=0.2, random_state=0)\n",
    "\n",
    "\n",
    "grid_search.fit(X_train, y_train)\n",
    "\n",
    "\n",
    "best_parameters = grid_search.best_params_\n",
    "best_score = grid_search.best_score_\n",
    "\n",
    "print(f\"Best parameters found: {best_parameters}\")\n",
    "print(f\"Best cross-validated score: {best_score * 100:.2f}%\")\n",
    "\n",
    "\n",
    "best_estimator = grid_search.best_estimator_\n",
    "y_pred = best_estimator.predict(X_test)\n",
    "\n",
    "accuracy = accuracy_score(y_test, y_pred)\n",
    "print(f\"Test Accuracy: {accuracy * 100:.2f}%\")\n"
   ]
  }
 ],
 "metadata": {
  "kernelspec": {
   "display_name": "how-happy-in-europe",
   "language": "python",
   "name": "python3"
  },
  "language_info": {
   "codemirror_mode": {
    "name": "ipython",
    "version": 3
   },
   "file_extension": ".py",
   "mimetype": "text/x-python",
   "name": "python",
   "nbconvert_exporter": "python",
   "pygments_lexer": "ipython3",
   "version": "3.10.6"
  }
 },
 "nbformat": 4,
 "nbformat_minor": 2
}
