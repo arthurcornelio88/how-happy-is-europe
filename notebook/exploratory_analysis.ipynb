{
 "cells": [
  {
   "cell_type": "code",
   "execution_count": null,
   "metadata": {},
   "outputs": [],
   "source": [
    "import json\n",
    "import numpy as np\n",
    "import pandas as pd\n",
    "import seaborn as sns\n",
    "from typing import Dict\n",
    "import matplotlib.pyplot as plt\n",
    "\n",
    "color = \"#507bbf\"\n",
    "plt.style.use(\"bmh\")"
   ]
  },
  {
   "cell_type": "markdown",
   "metadata": {},
   "source": [
    "## Data Processing"
   ]
  },
  {
   "cell_type": "code",
   "execution_count": null,
   "metadata": {},
   "outputs": [],
   "source": [
    "features_dict = {\n",
    "    \"stfmjob\":  \"How satisfied are you in your main job\",\n",
    "    \"trdawrk\":  \"Too tired after work to enjoy things like doing at home, how often\",\n",
    "    \"jbprtfp\":  \"Job prevents you from giving time to partner/family, how often\",\n",
    "    \"pfmfdjba\": \"Partner/family fed up with pressure of your job, how often\",\n",
    "    \"dcsfwrka\": \"Current job: can decide time start/finish work\",\n",
    "    \"wrkhome\":  \"Work from home or place of choice, how often\",\n",
    "    \"wrklong\":  \"Employees expected to work overtime, how often\",\n",
    "    \"wrkresp\":  \"Employees expected to be responsive outside working hours, how often\",\n",
    "    \"health\":   \"Subjective general health\",\n",
    "    \"stfeco\":   \"How satisfied with present state of economy in country\",\n",
    "    \"hhmmb\":    \"Number of people living regularly as member of household\",\n",
    "    \"hincfel\":  \"Feeling about household's income nowadays\",\n",
    "    \"trstplc\":  \"Trust in the police\",\n",
    "    \"sclmeet\":  \"How often socially meet with friends, relatives or colleagues\",\n",
    "    \"hlthhmp\":  \"Hampered in daily activities by illness/disability/infirmity/mental problem\",\n",
    "    \"sclact\":   \"Take part in social activities compared to others of same age\",\n",
    "    \"iphlppl\":  \"Important to help people and care for others well-being\",\n",
    "    \"ipsuces\":  \"Important to be successful and that people recognise achievements\",\n",
    "    \"ipstrgv\":  \"Important that government is strong and ensures safety\",\n",
    "    \"happy\":    \"Happiness\"\n",
    "}"
   ]
  },
  {
   "cell_type": "code",
   "execution_count": null,
   "metadata": {},
   "outputs": [],
   "source": [
    "data = pd.read_csv(\n",
    "    \"/home/mehrshad/code/arthurcornelio88/how-happy\"\n",
    "    +\"-in-europe/data/20240319_ESS10_manually-filtered_arthurcornelio88.csv\"\n",
    ").reset_index(drop=True)\n",
    "data = data.drop(\"Unnamed: 0\", axis=1)\n",
    "data = data[~data[\"happy\"].isin([77, 88, 99])]\n",
    "\n",
    "with open(\"../data/features_table.json\", 'r') as file:\n",
    "    features_tables = json.load(file)"
   ]
  },
  {
   "cell_type": "code",
   "execution_count": null,
   "metadata": {},
   "outputs": [],
   "source": [
    "def json_to_df(features_json: Dict, feature: str) -> pd.DataFrame:\n",
    "    feature_dict = features_json[feature]\n",
    "    df = pd.DataFrame.from_dict(\n",
    "        feature_dict,\n",
    "        columns=[\"val\"],\n",
    "        orient=\"index\").reset_index()\n",
    "    df.columns = [feature+\"_key\", feature+\"_desc\"]\n",
    "    df[feature+\"_key\"] = df[feature+\"_key\"].astype(int)\n",
    "    df[feature+\"_desc\"] = df[feature+\"_desc\"].astype(str)\n",
    "    return df\n",
    "\n",
    "def enrich_df(df: pd.DataFrame, enrichment_df: pd.DataFrame) -> pd.DataFrame:\n",
    "    feature = enrichment_df.columns[0].replace(\"_key\", \"\")\n",
    "    return df.merge(\n",
    "        enrichment_df,\n",
    "        how=\"left\",\n",
    "        left_on=feature,\n",
    "        right_on=feature+\"_key\"\n",
    "    ).drop(feature+\"_key\", axis=1)\n",
    "\n",
    "def remove_star_vals(df: pd.DataFrame, feature: str) -> pd.DataFrame:\n",
    "    mask = df[feature+\"_desc\"] == \"*\"\n",
    "    print(f\"{feature} %rows: \" + str(len(df[mask]) / len(df) * 100))\n",
    "    return df[~mask]"
   ]
  },
  {
   "cell_type": "code",
   "execution_count": null,
   "metadata": {},
   "outputs": [],
   "source": [
    "def create_map(arr: np.ndarray) -> Dict:\n",
    "    aux_vals = np.arange(1, arr[-1] // 2 + 1)\n",
    "    if len(arr)%2 == 0:\n",
    "        aux_vals = np.concatenate([-np.flip(aux_vals), aux_vals])\n",
    "    else:\n",
    "        aux_vals = np.concatenate([-np.flip(aux_vals) - 1, np.array([1]), aux_vals + 1])\n",
    "    dict_map = {}\n",
    "    for ind, el in enumerate(arr):\n",
    "        dict_map[el] = aux_vals[ind]\n",
    "    return dict_map"
   ]
  },
  {
   "cell_type": "code",
   "execution_count": null,
   "metadata": {},
   "outputs": [],
   "source": [
    "# rescale features from negative values to positive\n",
    "# values such that they are symmetric e.g. happiness\n",
    "# is from 0 to 10 we rescale it to -5 to 5\n",
    "aux_data = data[features_dict.keys()].copy()\n",
    "features_map_dict = {}\n",
    "for feature in features_dict.keys():\n",
    "    if feature == \"wrklong\":\n",
    "        aux_data.loc[aux_data[feature] == 55, feature] = 66\n",
    "    aux_df = json_to_df(features_tables, feature)\n",
    "    aux_data = enrich_df(aux_data, aux_df)\n",
    "    aux_data = remove_star_vals(aux_data, feature)\n",
    "\n",
    "    mask = aux_data[feature+\"_desc\"] == \"-1\"\n",
    "    vals = np.sort(aux_data[~mask][feature].unique())\n",
    "    if 0 in vals:\n",
    "        aux_data.loc[~mask, feature] += 1\n",
    "        vals += 1\n",
    "    map_dict = create_map(vals)\n",
    "    features_map_dict[feature] = map_dict\n",
    "    aux_data[feature] = aux_data[feature].replace(map_dict)\n",
    "    aux_data.loc[mask, feature] = 0\n",
    "    if len(vals)%2 == 1:\n",
    "        indices = aux_data[aux_data[feature] == 1].index.to_list()\n",
    "        indices = np.random.choice(indices, len(indices)//2)\n",
    "        aux_data.loc[aux_data.index.isin(indices), feature] = -1"
   ]
  },
  {
   "cell_type": "code",
   "execution_count": null,
   "metadata": {},
   "outputs": [],
   "source": [
    "print(r\"Percentage of total data: %{:.2f}\".format(len(aux_data) / len(data) * 100))"
   ]
  },
  {
   "cell_type": "code",
   "execution_count": null,
   "metadata": {},
   "outputs": [],
   "source": [
    "sns.barplot(aux_data[\"happy\"].value_counts(), color=color);"
   ]
  },
  {
   "cell_type": "code",
   "execution_count": null,
   "metadata": {},
   "outputs": [],
   "source": [
    "from sklearn.preprocessing import MinMaxScaler\n",
    "minmax_X = MinMaxScaler()\n",
    "minmax_Y = MinMaxScaler()\n",
    "cols = [col for col in aux_data.columns if \"_desc\" not in col and \"happy\" not in col]\n",
    "X = minmax_X.fit_transform(aux_data[cols])\n",
    "y = minmax_Y.fit_transform(aux_data[\"happy\"].values[:, np.newaxis])"
   ]
  },
  {
   "cell_type": "code",
   "execution_count": null,
   "metadata": {},
   "outputs": [],
   "source": [
    "from sklearn.model_selection import train_test_split\n",
    "X_train, X_test, y_train, y_test = train_test_split(X, y, test_size=0.2, random_state=42)"
   ]
  },
  {
   "cell_type": "markdown",
   "metadata": {},
   "source": [
    "## Model "
   ]
  },
  {
   "cell_type": "code",
   "execution_count": null,
   "metadata": {},
   "outputs": [],
   "source": [
    "import xgboost as xgb\n",
    "from sklearn.metrics import mean_absolute_error, accuracy_score\n",
    "\n",
    "model = xgb.XGBRegressor(\n",
    "    booster=\"gbtree\",\n",
    "    n_jobs=4,\n",
    "    random_state=42,\n",
    "    verbosity=0,\n",
    ")\n",
    "\n",
    "# Fit the classifier to the training data\n",
    "model.fit(X_train, y_train)\n",
    "\n",
    "# Predict the labels of the test set\n",
    "y_pred = model.predict(X_test)\n",
    "\n",
    "# Calculate the accuracy of the predictions\n",
    "mae = mean_absolute_error(y_test, y_pred)\n",
    "print(f\"MAE: {mae}\")"
   ]
  },
  {
   "cell_type": "markdown",
   "metadata": {},
   "source": [
    "## Post-processing"
   ]
  },
  {
   "cell_type": "code",
   "execution_count": null,
   "metadata": {},
   "outputs": [],
   "source": [
    "yy_pred = minmax_Y.inverse_transform(y_pred[:, np.newaxis])\n",
    "\n",
    "# since `yy_pred` can have values like 0.2 and -0.3\n",
    "# rounding them would yield 0.0. Hence we handle\n",
    "# these cases such that the output would be 1 and -1\n",
    "# respectively. The same thing happens to 6.6 and -6.8\n",
    "# which yield 7 and -7 respectively but they are not\n",
    "# in designated range of classes\n",
    "yy_pred[(yy_pred > 0) & (yy_pred < 1.0)] = 1\n",
    "yy_pred[(yy_pred > -1) & (yy_pred < 0.0)] = -1\n",
    "yy_pred[(yy_pred > 6.5)] = 6\n",
    "yy_pred[(yy_pred < -6.5)] = -6\n",
    "\n",
    "yy_pred = np.round(yy_pred)\n",
    "yy_test = minmax_Y.inverse_transform(y_test)\n",
    "res_flout_df = pd.DataFrame(\n",
    "    data=np.concatenate([y_pred[:, np.newaxis], y_test], axis=1),\n",
    "    columns=[\"pred\", \"test\"]\n",
    ")\n",
    "\n",
    "# we use dtype=int because classes are\n",
    "# integer valued whilst `inverse_transform`\n",
    "# yields float numbers\n",
    "res_int_df = pd.DataFrame(\n",
    "    data=np.concatenate([np.rint(yy_pred), np.rint(yy_test)], axis=1),\n",
    "    columns=[\"pred\", \"test\"],\n",
    "    dtype=int\n",
    ")"
   ]
  },
  {
   "cell_type": "code",
   "execution_count": null,
   "metadata": {},
   "outputs": [],
   "source": [
    "import seaborn as sns\n",
    "sns.histplot(res_flout_df[\"pred\"] - res_flout_df[\"test\"], kde=True);"
   ]
  },
  {
   "cell_type": "code",
   "execution_count": null,
   "metadata": {},
   "outputs": [],
   "source": [
    "# create the reverse dictionary map\n",
    "# for reverting back the -6 to 6 scale\n",
    "# of happines to the scale of 1 to 11\n",
    "happy_inverse_map_dict = {}\n",
    "for key, val in features_map_dict[\"happy\"].items():\n",
    "    if val == 1:\n",
    "        happy_inverse_map_dict[-val] = key\n",
    "        happy_inverse_map_dict[val] = key\n",
    "    else:\n",
    "        happy_inverse_map_dict[val] = key\n",
    "\n",
    "res_int_df[\"test\"] = res_int_df[\"test\"].replace(happy_inverse_map_dict)\n",
    "res_int_df[\"pred\"] = res_int_df[\"pred\"].replace(happy_inverse_map_dict)"
   ]
  },
  {
   "cell_type": "code",
   "execution_count": null,
   "metadata": {},
   "outputs": [],
   "source": [
    "# this dict map is to reduce the happines\n",
    "# categories into three general classes of\n",
    "# unhappy, satisfied and happy\n",
    "reduce_class_map = {\n",
    "    1: 0, 2: 0, 3: 0, 4: 0,\n",
    "    5: 1, 6: 1, 7: 1,\n",
    "    8: 1, 9: 2, 10: 2, 11: 2\n",
    "}\n",
    "\n",
    "res_int_df[\"test_reduced\"] = res_int_df[\"test\"].replace(reduce_class_map)\n",
    "res_int_df[\"pred_reduced\"] = res_int_df[\"pred\"].replace(reduce_class_map)"
   ]
  },
  {
   "cell_type": "code",
   "execution_count": null,
   "metadata": {},
   "outputs": [],
   "source": [
    "# accuracy for 11 classes of happiness\n",
    "accuracy_score(res_int_df[\"test\"], res_int_df[\"pred\"]) * 100"
   ]
  },
  {
   "cell_type": "code",
   "execution_count": null,
   "metadata": {},
   "outputs": [],
   "source": [
    "# accuracy for 3 classes of happiness\n",
    "accuracy_score(res_int_df[\"test_reduced\"], res_int_df[\"pred_reduced\"]) * 100"
   ]
  },
  {
   "cell_type": "code",
   "execution_count": null,
   "metadata": {},
   "outputs": [],
   "source": [
    "%s/^[A-Z].*//g\n",
    "%s/\\(\\d\\) \\t/\\1: \"/g\n",
    "%s/^\\*.*//g\n",
    "%s/Not applicable\\*/-1/g\n",
    "%s/\".*/\\0\",/g\n",
    "%s/\".*\\*/\"\\*/g\n",
    "%s/^[a-z].*/}, \"\\0\": {/g\n",
    "%s/^\\n//g\n",
    "%s/,$\\n}/}/g\n",
    "%s/^\\(\\d\\+\\)/\"\\1\"/g"
   ]
  },
  {
   "cell_type": "markdown",
   "metadata": {},
   "source": [
    "1. KMeans vs Happiness classification\n",
    "2. Add country and gender with one hot encoding\n",
    "3. Use GridSreachCV for cross-validation score"
   ]
  }
 ],
 "metadata": {
  "kernelspec": {
   "display_name": "how-happy-in-europe",
   "language": "python",
   "name": "python3"
  },
  "language_info": {
   "codemirror_mode": {
    "name": "ipython",
    "version": 3
   },
   "file_extension": ".py",
   "mimetype": "text/x-python",
   "name": "python",
   "nbconvert_exporter": "python",
   "pygments_lexer": "ipython3",
   "version": "3.10.6"
  }
 },
 "nbformat": 4,
 "nbformat_minor": 2
}
